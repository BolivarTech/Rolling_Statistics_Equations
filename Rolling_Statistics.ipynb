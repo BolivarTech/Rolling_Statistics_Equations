{
 "cells": [
  {
   "metadata": {},
   "cell_type": "markdown",
   "source": "# Calculate Rolling Statistics Equations",
   "id": "8a77807f92f26ee"
  },
  {
   "metadata": {
    "ExecuteTime": {
     "end_time": "2025-04-19T22:42:56.273296Z",
     "start_time": "2025-04-19T22:42:54.916549Z"
    }
   },
   "cell_type": "code",
   "source": [
    "# Import libraries\n",
    "import numpy as np\n",
    "import pandas as pd\n",
    "import matplotlib.pyplot as plt\n",
    "from scipy.optimize import curve_fit\n",
    "import sympy as sp"
   ],
   "id": "7df9140457caed5e",
   "outputs": [],
   "execution_count": 1
  },
  {
   "metadata": {},
   "cell_type": "markdown",
   "source": [
    "## Exponential Moving Average (EMA)\n",
    "The exponential moving average is a type of weighted moving average that gives more weight to recent data points. The formula for the EMA is:"
   ],
   "id": "40ffe19180277f4"
  },
  {
   "metadata": {
    "ExecuteTime": {
     "end_time": "2025-04-19T22:42:56.533015Z",
     "start_time": "2025-04-19T22:42:56.398087Z"
    }
   },
   "cell_type": "code",
   "source": [
    "# Define the variables\n",
    "mean_t1, x_t, N, sigma_t1 = sp.symbols('mean_t-1 x_t N sigma_t-1')\n",
    "\n",
    "# Define the exponential moving average equation\n",
    "mean_t = mean_t1 + (1/N) * (x_t - mean_t1)\n",
    "\n",
    "print(\"Exponential Moving Average Equation:\")\n",
    "sp.pretty_print(mean_t)"
   ],
   "id": "f6ecb61f2197dc3b",
   "outputs": [
    {
     "name": "stdout",
     "output_type": "stream",
     "text": [
      "Exponential Moving Average Equation:\n",
      "          -meanₜ₋₁ + xₜ\n",
      "meanₜ₋₁ + ─────────────\n",
      "                N      \n"
     ]
    }
   ],
   "execution_count": 2
  },
  {
   "metadata": {},
   "cell_type": "markdown",
   "source": [
    "## Rollng Standard Deviation\n",
    "\n",
    "Define the rolling standard deviation function."
   ],
   "id": "2e44cfe2f556cba1"
  },
  {
   "metadata": {
    "collapsed": true,
    "ExecuteTime": {
     "end_time": "2025-04-19T22:42:56.563239Z",
     "start_time": "2025-04-19T22:42:56.549451Z"
    }
   },
   "cell_type": "code",
   "source": [
    "# Define the variables\n",
    "mean_t, x_t, N, sigma_t1 = sp.symbols('mean_t x_t N sigma_t-1')\n",
    "\n",
    "# Define the rolling standard deviation equation\n",
    "sigma_t = sp.sqrt(1/(N-1) * ((N-2) * sigma_t1**2 + (x_t - mean_t)**2))\n",
    "\n",
    "print(\"Rolling Standard Deviation Equation:\")\n",
    "sp.pretty_print(sigma_t)"
   ],
   "id": "initial_id",
   "outputs": [
    {
     "name": "stdout",
     "output_type": "stream",
     "text": [
      "Rolling Standard Deviation Equation:\n",
      "     ________________________________\n",
      "    ╱     2                        2 \n",
      "   ╱  σₜ₋₁ ⋅(N - 2) + (-meanₜ + xₜ)  \n",
      "  ╱   ────────────────────────────── \n",
      "╲╱                N - 1              \n"
     ]
    }
   ],
   "execution_count": 3
  }
 ],
 "metadata": {
  "kernelspec": {
   "display_name": "Python 3",
   "language": "python",
   "name": "python3"
  },
  "language_info": {
   "codemirror_mode": {
    "name": "ipython",
    "version": 2
   },
   "file_extension": ".py",
   "mimetype": "text/x-python",
   "name": "python",
   "nbconvert_exporter": "python",
   "pygments_lexer": "ipython2",
   "version": "2.7.6"
  }
 },
 "nbformat": 4,
 "nbformat_minor": 5
}
